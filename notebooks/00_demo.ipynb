{
  "cells": [
    {
      "cell_type": "raw",
      "metadata": {
        "vscode": {
          "languageId": "raw"
        }
      },
      "source": [
        "# Heavy-Hex Layout Optimizer Demo\n",
        "\n",
        "This notebook demonstrates the **GreedyCommunityLayout** optimization pass designed to outperform stock Qiskit transpilation on IBM Heavy-Hex quantum backends.\n",
        "\n",
        "## Objective\n",
        "Develop a layout optimization pass that achieves:\n",
        "- **≥25% CX gate reduction** compared to `opt_level=3` baseline\n",
        "- **≤2 second compilation time** for 100-qubit circuits  \n",
        "- **Heavy-Hex topology awareness** exploiting structural properties\n",
        "\n",
        "## Algorithm Overview\n",
        "1. **Build Interaction Graph**: Create weighted graph from circuit (nodes=qubits, edges=CX counts)\n",
        "2. **Community Detection**: Use greedy modularity to find talkative qubit groups\n",
        "3. **Heavy-Hex Cell Assignment**: Place communities in 7-qubit hex clusters and 4-qubit kites\n",
        "4. **Cost Minimization**: Optimize placement to minimize border penalties and gate errors\n",
        "5. **Simulated Annealing**: 1-second refinement using swaps and community shifts\n",
        "\n",
        "## Expected Results\n",
        "- Significant CX reduction on medium-large circuits (50-100 qubits)\n",
        "- Fast compilation suitable for NISQ applications\n",
        "- Robust performance across different IBM Heavy-Hex backends\n"
      ]
    },
    {
      "cell_type": "raw",
      "metadata": {
        "vscode": {
          "languageId": "raw"
        }
      },
      "source": [
        "## Environment Setup\n",
        "\n",
        "First, let's verify our environment and imports work correctly:\n"
      ]
    },
    {
      "cell_type": "code",
      "execution_count": 1,
      "metadata": {},
      "outputs": [
        {
          "name": "stdout",
          "output_type": "stream",
          "text": [
            "🔧 Configuration loaded successfully!\n",
            "🔧 Configuration Summary\n",
            "========================================\n",
            "Experiment: heavy_hex_optimization\n",
            "Description: Layout optimization for IBM Heavy-Hex backends targeting 25% CX reduction\n",
            "Seed: 42\n",
            "\n",
            "Backend: FakeBrisbane (127 qubits)\n",
            "\n",
            "Benchmark suite: quantum_volume\n",
            "Circuit sizes: [15, 25, 60]\n",
            "\n",
            "Layout algorithm: simple\n",
            "\n",
            "Targets:\n",
            "  CX reduction: ≥25.0%\n",
            "\n",
            "✅ Qiskit version: 1.2.4\n",
            "✅ NumPy version: 1.24.4\n",
            "✅ NetworkX version: 3.1\n",
            "✅ All imports successful!\n"
          ]
        }
      ],
      "source": [
        "# Core imports\n",
        "import sys\n",
        "import numpy as np\n",
        "import matplotlib.pyplot as plt\n",
        "import networkx as nx\n",
        "from pathlib import Path\n",
        "\n",
        "# Qiskit imports\n",
        "import qiskit\n",
        "from qiskit import QuantumCircuit, transpile\n",
        "from qiskit.circuit.library import QuantumVolume\n",
        "from qiskit_ibm_runtime.fake_provider import FakeBrisbane\n",
        "from qiskit.transpiler import PassManager\n",
        "\n",
        "# Configuration (MUST be loaded first)\n",
        "sys.path.append('..')\n",
        "from config_loader import load_config, get_config\n",
        "\n",
        "# Load configuration as the SINGLE SOURCE OF TRUTH\n",
        "# Config file is in parent directory\n",
        "config = load_config('../config.yaml')\n",
        "print(\"🔧 Configuration loaded successfully!\")\n",
        "config.print_config_summary()\n",
        "\n",
        "# Local imports\n",
        "from layout_opt.heavyhex_layout import GreedyCommunityLayout\n",
        "from layout_opt.utils import load_benchmarks, transpile_and_score\n",
        "\n",
        "print(f\"\\n✅ Qiskit version: {qiskit.__version__}\")\n",
        "print(f\"✅ NumPy version: {np.__version__}\")\n",
        "print(f\"✅ NetworkX version: {nx.__version__}\")\n",
        "print(f\"✅ All imports successful!\")\n"
      ]
    },
    {
      "cell_type": "raw",
      "metadata": {
        "vscode": {
          "languageId": "raw"
        }
      },
      "source": [
        "## Backend Setup\n",
        "\n",
        "Initialize the IBM Heavy-Hex backend for testing:\n"
      ]
    },
    {
      "cell_type": "code",
      "execution_count": 2,
      "metadata": {},
      "outputs": [
        {
          "name": "stdout",
          "output_type": "stream",
          "text": [
            "🎯 Using backend from config: FakeBrisbane\n",
            "Backend name:      fake_brisbane\n",
            "Number of qubits:  127\n",
            "Coupling map:      144 edges\n",
            "Basis gates:       ['ecr', 'id', 'rz', 'sx', 'x']\n",
            "\n",
            "✅ Backend initialized from config!\n",
            "   Using seed: 42\n",
            "   Optimization level: 3\n",
            "   Ready for Heavy-Hex layout optimization…\n"
          ]
        }
      ],
      "source": [
        "# Initialize backend using config (NO HARDCODED BACKEND!)\n",
        "backend_name = config.get_backend_name()\n",
        "print(f\"🎯 Using backend from config: {backend_name}\")\n",
        "\n",
        "# Get backend dynamically based on config\n",
        "if backend_name == \"FakeBrisbane\":\n",
        "    from qiskit_ibm_runtime.fake_provider import FakeBrisbane\n",
        "    backend = FakeBrisbane()\n",
        "elif backend_name == \"FakePerth\":\n",
        "    from qiskit_ibm_runtime.fake_provider import FakePerth\n",
        "    backend = FakePerth()\n",
        "elif backend_name == \"FakeSherbrooke\":\n",
        "    from qiskit_ibm_runtime.fake_provider import FakeSherbrooke\n",
        "    backend = FakeSherbrooke()\n",
        "else:\n",
        "    raise ValueError(f\"Unsupported backend: {backend_name}\")\n",
        "\n",
        "# Get backend configuration\n",
        "backend_config = backend.configuration()\n",
        "\n",
        "print(f\"Backend name:      {backend.name}\")\n",
        "print(f\"Number of qubits:  {backend_config.n_qubits}\")\n",
        "print(f\"Coupling map:      {len(backend_config.coupling_map)} edges\")\n",
        "print(f\"Basis gates:       {backend_config.basis_gates}\")\n",
        "\n",
        "print(f\"\\n✅ Backend initialized from config!\")\n",
        "print(f\"   Using seed: {config.get_seed()}\")\n",
        "print(f\"   Optimization level: {config.get_optimization_level()}\")\n",
        "print(\"   Ready for Heavy-Hex layout optimization…\")"
      ]
    },
    {
      "cell_type": "raw",
      "metadata": {
        "vscode": {
          "languageId": "raw"
        }
      },
      "source": [
        "## Test Circuit Creation\n",
        "\n",
        "Create a sample circuit for testing the layout optimization:\n"
      ]
    },
    {
      "cell_type": "code",
      "execution_count": 3,
      "metadata": {},
      "outputs": [
        {
          "name": "stdout",
          "output_type": "stream",
          "text": [
            "🎯 Creating circuit from config:\n",
            "   Active suite: quantum_volume\n",
            "   Available sizes: [15, 25, 60]\n",
            "   Using: 15 qubits\n",
            "   Depth factor: 1.0\n",
            "   Seed: 42\n",
            "\n",
            "Test circuit: QV(15, 15)\n",
            "Number of qubits: 15\n",
            "Circuit depth: 1\n",
            "Gate counts: OrderedDict([('quantum_volume_[15,15,42]', 1)])\n",
            "\n",
            "✅ Test circuit created from config successfully!\n"
          ]
        }
      ],
      "source": [
        "# Create test circuit using CONFIG parameters \n",
        "circuit_sizes = config.get_circuit_sizes()\n",
        "n_qubits = circuit_sizes[0]  # Use first size from config\n",
        "depth = int(n_qubits * config.get_depth_factor())\n",
        "seed = config.get_seed()\n",
        "\n",
        "print(f\"🎯 Creating circuit from config:\")\n",
        "print(f\"   Active suite: {config.get_active_suite()}\")\n",
        "print(f\"   Available sizes: {circuit_sizes}\")\n",
        "print(f\"   Using: {n_qubits} qubits\")\n",
        "print(f\"   Depth factor: {config.get_depth_factor()}\")\n",
        "print(f\"   Seed: {seed}\")\n",
        "\n",
        "# Create circuit with config parameters\n",
        "circuit = QuantumVolume(n_qubits, depth, seed=seed)\n",
        "\n",
        "print(f\"\\nTest circuit: QV({n_qubits}, {depth})\")\n",
        "print(f\"Number of qubits: {circuit.num_qubits}\")\n",
        "print(f\"Circuit depth: {circuit.depth()}\")\n",
        "print(f\"Gate counts: {circuit.count_ops()}\")\n",
        "\n",
        "# TODO: Once implementation is complete, uncomment below\n",
        "# circuit.draw(output='mpl', fold=120)\n",
        "# plt.show()\n",
        "\n",
        "print(f\"\\n✅ Test circuit created from config successfully!\")\n"
      ]
    },
    {
      "cell_type": "raw",
      "metadata": {
        "vscode": {
          "languageId": "raw"
        }
      },
      "source": [
        "## Layout Optimization (TODO)\n",
        "\n",
        "The following cells will demonstrate the custom layout optimization once implementation is complete:\n"
      ]
    },
    {
      "cell_type": "code",
      "execution_count": 8,
      "metadata": {},
      "outputs": [
        {
          "name": "stdout",
          "output_type": "stream",
          "text": [
            "🚀 Running actual transpilation comparison...\n",
            "\n",
            "Using config algorithm: simple\n",
            "Baseline optimization level: 3\n",
            "Target CX reduction: 25.0%\n",
            "\n",
            "🔄 Running transpilation comparison...\n",
            "==================================================\n",
            "🔄 Running stock transpilation (opt_level=3)...\n",
            "🔄 Running custom transpilation...\n",
            "⚠️  Custom layout pass didn't set _layout, using standard transpile\n",
            "\n",
            "📊 Results for quantum_volume_[15,15,42]:\n",
            "   Input: 15 qubits, 0 CX gates\n",
            "\n",
            "📈 Stock transpilation (opt_level=3):\n",
            "   Success: True\n",
            "   CX count: 639\n",
            "   Circuit depth: 1096\n",
            "   Compile time: 1.534s\n",
            "\n",
            "🎯 Custom layout transpilation:\n",
            "   Success: True\n",
            "   CX count: 639\n",
            "   Circuit depth: 1096\n",
            "   Compile time: 1.359s\n",
            "\n",
            "🏆 Performance Comparison:\n",
            "   CX reduction: 0.0%\n",
            "   Depth reduction: 0.0%\n",
            "   Compile time ratio: 0.89x\n",
            "   ❌ Target missed: 0.0% < 25.0%\n",
            "\n",
            "✅ Transpilation comparison complete!\n"
          ]
        }
      ],
      "source": [
        "# Import pipeline components\n",
        "from pipeline.transpiler import TranspilerComparison\n",
        "from pipeline.metrics import MetricsCollector\n",
        "\n",
        "print(\"🚀 Running actual transpilation comparison...\")\n",
        "print(f\"\\nUsing config algorithm: {config.config['layout_optimization']['algorithm']}\")\n",
        "print(f\"Baseline optimization level: {config.get_optimization_level()}\")\n",
        "print(f\"Target CX reduction: {config.config['targets']['cx_reduction_target_percent']}%\")\n",
        "\n",
        "# Initialize the transpilation comparison engine\n",
        "comparator = TranspilerComparison(backend)\n",
        "\n",
        "# Initialize custom layout pass (currently a stub)\n",
        "layout_pass = GreedyCommunityLayout(backend)  # Uses config seed automatically\n",
        "\n",
        "print(\"\\n🔄 Running transpilation comparison...\")\n",
        "print(\"=\" * 50)\n",
        "\n",
        "# Run the comparison on our test circuit\n",
        "result = comparator.compare_transpilation(circuit, layout_pass)\n",
        "\n",
        "# Display results\n",
        "print(f\"\\n📊 Results for {result['circuit_name']}:\")\n",
        "print(f\"   Input: {result['input_stats']['num_qubits']} qubits, {result['input_stats']['cx_count']} CX gates\")\n",
        "\n",
        "# Stock results\n",
        "stock = result['stock']\n",
        "print(f\"\\n📈 Stock transpilation (opt_level={config.get_optimization_level()}):\")\n",
        "print(f\"   Success: {stock['success']}\")\n",
        "if stock['success']:\n",
        "    print(f\"   CX count: {stock['stats']['cx_count']}\")\n",
        "    print(f\"   Circuit depth: {stock['stats']['depth']}\")\n",
        "    print(f\"   Compile time: {stock['compile_time']:.3f}s\")\n",
        "\n",
        "# Custom results\n",
        "custom = result['custom']\n",
        "print(f\"\\n🎯 Custom layout transpilation:\")\n",
        "print(f\"   Success: {custom['success'] if custom else False}\")\n",
        "if custom and custom['success']:\n",
        "    print(f\"   CX count: {custom['stats']['cx_count']}\")\n",
        "    print(f\"   Circuit depth: {custom['stats']['depth']}\")\n",
        "    print(f\"   Compile time: {custom['compile_time']:.3f}s\")\n",
        "\n",
        "# Comparison metrics\n",
        "comparison = result['comparison']\n",
        "if comparison and comparison['comparison_valid']:\n",
        "    print(f\"\\n🏆 Performance Comparison:\")\n",
        "    print(f\"   CX reduction: {comparison['cx_reduction_percent']:.1f}%\")\n",
        "    print(f\"   Depth reduction: {comparison['depth_reduction_percent']:.1f}%\")\n",
        "    print(f\"   Compile time ratio: {comparison['compile_time_ratio']:.2f}x\")\n",
        "    \n",
        "    # Check if we met our target\n",
        "    target = config.config['targets']['cx_reduction_target_percent']\n",
        "    if comparison['cx_reduction_percent'] >= target:\n",
        "        print(f\"   ✅ TARGET MET: {comparison['cx_reduction_percent']:.1f}% ≥ {target}%\")\n",
        "    else:\n",
        "        print(f\"   ❌ Target missed: {comparison['cx_reduction_percent']:.1f}% < {target}%\")\n",
        "else:\n",
        "    print(f\"\\n❌ Comparison failed - check error messages above\")\n",
        "\n",
        "print(f\"\\n✅ Transpilation comparison complete!\")\n"
      ]
    },
    {
      "cell_type": "raw",
      "metadata": {
        "vscode": {
          "languageId": "raw"
        }
      },
      "source": [
        "## Benchmarking Suite (TODO)\n",
        "\n",
        "Comprehensive benchmarking across multiple circuit sizes and types:\n"
      ]
    },
    {
      "cell_type": "code",
      "execution_count": 9,
      "metadata": {},
      "outputs": [
        {
          "name": "stdout",
          "output_type": "stream",
          "text": [
            "🚀 Running benchmark suite from config...\n",
            "Active suite: quantum_volume\n",
            "Circuit sizes: [15, 25, 60]\n",
            "\n",
            "Generated 3 benchmark circuits\n",
            "🚀 Starting batch comparison of 3 circuits...\n",
            "\n",
            "[1/3] Processing QV_15q_15d...\n",
            "🔄 Running stock transpilation (opt_level=3)...\n",
            "🔄 Running custom transpilation...\n",
            "⚠️  Custom layout pass didn't set _layout, using standard transpile\n",
            "  ✅ CX reduction: 0.0%\n",
            "\n",
            "[2/3] Processing QV_25q_25d...\n",
            "🔄 Running stock transpilation (opt_level=3)...\n",
            "🔄 Running custom transpilation...\n",
            "⚠️  Custom layout pass didn't set _layout, using standard transpile\n",
            "  ✅ CX reduction: 0.0%\n",
            "\n",
            "[3/3] Processing QV_60q_60d...\n",
            "🔄 Running stock transpilation (opt_level=3)...\n",
            "🔄 Running custom transpilation...\n",
            "⚠️  Custom layout pass didn't set _layout, using standard transpile\n",
            "  ✅ CX reduction: 0.0%\n",
            "\n",
            "🎉 Batch comparison complete!\n",
            "\n",
            "============================================================\n",
            "📊 QUANTUM LAYOUT OPTIMIZATION RESULTS SUMMARY\n",
            "============================================================\n",
            "\n",
            "📈 Overall Performance:\n",
            "  Total circuits tested: 3\n",
            "  Successful comparisons: 3\n",
            "  Success rate: 100.0%\n",
            "\n",
            "🎯 CX Gate Reduction:\n",
            "  Average reduction: 0.0% ± 0.0%\n",
            "  Median reduction: 0.0%\n",
            "  Best reduction: 0.0%\n",
            "  Worst reduction: 0.0%\n",
            "  Circuits with improvement: 0/3 (0.0%)\n",
            "\n",
            "⏱️  Compilation Time:\n",
            "  Custom average: 17.379s\n",
            "  Stock average: 17.376s\n",
            "  Speed ratio: 0.99x\n",
            "  Faster compilations: 2\n",
            "\n",
            "📏 Performance by Circuit Size:\n",
            "  Small (15-25q): 0.0% avg reduction (2 circuits)\n",
            "  Large (51-75q): 0.0% avg reduction (1 circuits)\n",
            "\n",
            "📈 SCALING ANALYSIS:\n",
            "----------------------------------------\n",
            "Small (15-25q):\n",
            "   Circuits: 2\n",
            "   Avg CX reduction: 0.0%\n",
            "   Improvement rate: 0.0%\n",
            "   Best result: 0.0%\n",
            "Large (51-75q):\n",
            "   Circuits: 1\n",
            "   Avg CX reduction: 0.0%\n",
            "   Improvement rate: 0.0%\n",
            "   Best result: 0.0%\n",
            "\n",
            "💾 Results saved to: results/benchmark_results.csv\n",
            "\n",
            "🎉 Benchmark suite complete!\n"
          ]
        }
      ],
      "source": [
        "# Run full benchmark suite using CONFIG\n",
        "print(\"🚀 Running benchmark suite from config...\")\n",
        "print(f\"Active suite: {config.get_active_suite()}\")\n",
        "print(f\"Circuit sizes: {config.get_circuit_sizes()}\")\n",
        "\n",
        "# Create circuits for all sizes in config\n",
        "circuits = {}\n",
        "for size in config.get_circuit_sizes():\n",
        "    depth = int(size * config.get_depth_factor())\n",
        "    qv_circuit = QuantumVolume(size, depth, seed=config.get_seed())\n",
        "    circuits[f\"QV_{size}q_{depth}d\"] = qv_circuit\n",
        "\n",
        "print(f\"\\nGenerated {len(circuits)} benchmark circuits\")\n",
        "\n",
        "# Run batch comparison\n",
        "batch_results = comparator.batch_compare(circuits, layout_pass)\n",
        "\n",
        "# Collect and analyze metrics\n",
        "metrics_collector = MetricsCollector()\n",
        "metrics_collector.collect_results(batch_results)\n",
        "\n",
        "# Print comprehensive summary\n",
        "metrics_collector.print_summary_report()\n",
        "\n",
        "# Get scaling analysis\n",
        "scaling_analysis = metrics_collector.get_size_scaling_analysis()\n",
        "if 'error' not in scaling_analysis:\n",
        "    print(f\"\\n📈 SCALING ANALYSIS:\")\n",
        "    print(\"-\" * 40)\n",
        "    for size_range, stats in scaling_analysis.items():\n",
        "        print(f\"{size_range}:\")\n",
        "        print(f\"   Circuits: {stats['count']}\")\n",
        "        print(f\"   Avg CX reduction: {stats['avg_cx_reduction']:.1f}%\")\n",
        "        print(f\"   Improvement rate: {stats['improvement_rate']:.1f}%\")\n",
        "        print(f\"   Best result: {stats['best_cx_reduction']:.1f}%\")\n",
        "\n",
        "# Export results\n",
        "df = metrics_collector.get_metrics_dataframe()\n",
        "if not df.empty:\n",
        "    output_dir = config.get_output_directory()\n",
        "    csv_file = output_dir / \"benchmark_results.csv\"\n",
        "    df.to_csv(csv_file, index=False)\n",
        "    print(f\"\\n💾 Results saved to: {csv_file}\")\n",
        "\n",
        "print(f\"\\n🎉 Benchmark suite complete!\")\n"
      ]
    },
    {
      "cell_type": "raw",
      "metadata": {
        "vscode": {
          "languageId": "raw"
        }
      },
      "source": [
        "## Architecture Status ✅\n",
        "\n",
        "**The complete pipeline architecture is now working!**\n",
        "\n",
        "### ✅ What's Implemented:\n",
        "- **Configuration System**: Single source of truth in `config.yaml`\n",
        "- **Transpilation Comparison**: Full pipeline in `pipeline/transpiler.py`\n",
        "- **Metrics Collection**: Comprehensive analysis in `pipeline/metrics.py`\n",
        "- **Layout Pass Interface**: Working stub in `layout_opt/heavyhex_layout.py`\n",
        "- **Benchmarking Suite**: Multi-circuit testing with scaling analysis\n",
        "- **Results Export**: CSV output and statistical summaries\n",
        "\n",
        "### 🚧 Next Steps for Algorithm Implementation:\n",
        "\n",
        "1. **Heavy-Hex Topology Detection** (`layout_opt/distance.py`)\n",
        "   - Identify 7-qubit hex clusters and 4-qubit kites\n",
        "   - Build distance matrices for Heavy-Hex structures\n",
        "\n",
        "2. **Community Detection Algorithm** (`layout_opt/heavyhex_layout.py`)\n",
        "   - Build interaction graph from circuit CX gates\n",
        "   - Use NetworkX greedy modularity for community detection\n",
        "   - Implement cost function for community-to-cell assignment\n",
        "\n",
        "3. **Simulated Annealing Refinement** (`layout_opt/anneal.py`)\n",
        "   - 1-second post-processing optimization\n",
        "   - Swap moves and community shifts\n",
        "\n",
        "### 🎯 Ready for Development:\n",
        "The architecture allows you to:\n",
        "- **Test any layout algorithm** by replacing the stub in `GreedyCommunityLayout.run()`\n",
        "- **Compare against stock Qiskit** with identical optimization levels\n",
        "- **Benchmark across multiple circuit sizes** automatically\n",
        "- **Track progress toward 25% CX reduction target**\n",
        "- **Export results** for analysis and reporting\n",
        "\n",
        "**The foundation is solid - now implement the algorithms!** 🚀\n"
      ]
    }
  ],
  "metadata": {
    "kernelspec": {
      "display_name": "myenv",
      "language": "python",
      "name": "python3"
    },
    "language_info": {
      "codemirror_mode": {
        "name": "ipython",
        "version": 3
      },
      "file_extension": ".py",
      "mimetype": "text/x-python",
      "name": "python",
      "nbconvert_exporter": "python",
      "pygments_lexer": "ipython3",
      "version": "3.8.0"
    }
  },
  "nbformat": 4,
  "nbformat_minor": 2
}
